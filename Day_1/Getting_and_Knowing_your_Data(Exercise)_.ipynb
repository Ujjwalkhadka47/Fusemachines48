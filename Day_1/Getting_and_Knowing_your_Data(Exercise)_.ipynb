{
  "cells": [
    {
      "cell_type": "markdown",
      "metadata": {
        "id": "GOviCBhbngLe"
      },
      "source": [
        "# Ex1 - Getting and Knowing your Data"
      ]
    },
    {
      "cell_type": "markdown",
      "metadata": {
        "id": "cnVjy8OzngLf"
      },
      "source": [
        "\n",
        "### Step 1: Initialize PySpark Session\n",
        "\n"
      ]
    },
    {
      "cell_type": "code",
      "execution_count": 9,
      "metadata": {
        "id": "BWKS0Y-MngLg"
      },
      "outputs": [],
      "source": [
        "import findspark\n",
        "findspark.init()\n",
        "from pyspark.sql import SparkSession\n",
        "\n",
        "# Create a Spark session\n",
        "spark = SparkSession.builder.appName(\"Day1\").getOrCreate()\n"
      ]
    },
    {
      "cell_type": "code",
      "source": [
        "# Create a Spark session\n",
        "spark = SparkSession.builder.appName(\"Day1\").getOrCreate()"
      ],
      "metadata": {
        "id": "vWvDi-_ERX39"
      },
      "execution_count": 10,
      "outputs": []
    },
    {
      "cell_type": "markdown",
      "metadata": {
        "id": "ZsKpvtp0ngLh"
      },
      "source": [
        "### Step 2: Load the Dataset\n",
        "\n",
        "\n",
        "\n"
      ]
    },
    {
      "cell_type": "code",
      "execution_count": 11,
      "metadata": {
        "id": "8HqS9YFLngLh"
      },
      "outputs": [],
      "source": [
        "# Load the Chipotle dataset into a Spark DataFrame\n",
        "data_path = '/content/chipotle.csv' # Replace with the actual path\n",
        "df = spark.read.csv(data_path, header=True, inferSchema=True)\n"
      ]
    },
    {
      "cell_type": "markdown",
      "metadata": {
        "id": "UPy0RQ34ngLh"
      },
      "source": [
        "### Step 3. Get an overview of the DataFrame:\n"
      ]
    },
    {
      "cell_type": "code",
      "execution_count": 12,
      "metadata": {
        "id": "PPQhClvongLh",
        "outputId": "c6319d93-fe95-48b1-da77-7abdc60a20f9",
        "colab": {
          "base_uri": "https://localhost:8080/"
        }
      },
      "outputs": [
        {
          "output_type": "stream",
          "name": "stdout",
          "text": [
            "root\n",
            " |-- _c0: integer (nullable = true)\n",
            " |-- order_id: integer (nullable = true)\n",
            " |-- quantity: integer (nullable = true)\n",
            " |-- item_name: string (nullable = true)\n",
            " |-- choice_description: string (nullable = true)\n",
            " |-- item_price: string (nullable = true)\n",
            "\n"
          ]
        }
      ],
      "source": [
        "df.printSchema()"
      ]
    },
    {
      "cell_type": "code",
      "execution_count": 13,
      "metadata": {
        "id": "ENzcdIl6ngLh",
        "outputId": "1be9f4b9-5994-4bc9-d8ac-b8c8ccc32ca8",
        "colab": {
          "base_uri": "https://localhost:8080/"
        }
      },
      "outputs": [
        {
          "output_type": "stream",
          "name": "stdout",
          "text": [
            "+---+--------+--------+--------------------+--------------------+----------+\n",
            "|_c0|order_id|quantity|           item_name|  choice_description|item_price|\n",
            "+---+--------+--------+--------------------+--------------------+----------+\n",
            "|  0|       1|       1|Chips and Fresh T...|                null|    $2.39 |\n",
            "|  1|       1|       1|                Izze|        [Clementine]|    $3.39 |\n",
            "|  2|       1|       1|    Nantucket Nectar|             [Apple]|    $3.39 |\n",
            "|  3|       1|       1|Chips and Tomatil...|                null|    $2.39 |\n",
            "|  4|       2|       2|        Chicken Bowl|[Tomatillo-Red Ch...|   $16.98 |\n",
            "+---+--------+--------+--------------------+--------------------+----------+\n",
            "only showing top 5 rows\n",
            "\n"
          ]
        }
      ],
      "source": [
        "df.show(5)"
      ]
    },
    {
      "cell_type": "code",
      "source": [
        "#Using sql\n",
        "\n",
        "df.createOrReplaceTempView('table')\n",
        "query = 'select * from table limit 5'\n",
        "result = spark.sql(query)\n",
        "result.show()"
      ],
      "metadata": {
        "id": "9z2fKhrsUEKY",
        "outputId": "4bbb025c-a5e8-488d-a9c2-c59115d64254",
        "colab": {
          "base_uri": "https://localhost:8080/"
        }
      },
      "execution_count": 19,
      "outputs": [
        {
          "output_type": "stream",
          "name": "stdout",
          "text": [
            "+---+--------+--------+--------------------+--------------------+----------+\n",
            "|_c0|order_id|quantity|           item_name|  choice_description|item_price|\n",
            "+---+--------+--------+--------------------+--------------------+----------+\n",
            "|  0|       1|       1|Chips and Fresh T...|                null|    $2.39 |\n",
            "|  1|       1|       1|                Izze|        [Clementine]|    $3.39 |\n",
            "|  2|       1|       1|    Nantucket Nectar|             [Apple]|    $3.39 |\n",
            "|  3|       1|       1|Chips and Tomatil...|                null|    $2.39 |\n",
            "|  4|       2|       2|        Chicken Bowl|[Tomatillo-Red Ch...|   $16.98 |\n",
            "+---+--------+--------+--------------------+--------------------+----------+\n",
            "\n"
          ]
        }
      ]
    },
    {
      "cell_type": "markdown",
      "metadata": {
        "id": "liKiPfy8ngLh"
      },
      "source": [
        "### Step 4.Calculate basic statistics:\n"
      ]
    },
    {
      "cell_type": "code",
      "execution_count": 15,
      "metadata": {
        "scrolled": false,
        "id": "ucLkr2RwngLh",
        "outputId": "61cf7ebb-a736-4d9f-f94b-b6a6d0a57abb",
        "colab": {
          "base_uri": "https://localhost:8080/"
        }
      },
      "outputs": [
        {
          "output_type": "stream",
          "name": "stdout",
          "text": [
            "+-------+------------------+-----------------+------------------+-----------------+--------------------+----------+\n",
            "|summary|               _c0|         order_id|          quantity|        item_name|  choice_description|item_price|\n",
            "+-------+------------------+-----------------+------------------+-----------------+--------------------+----------+\n",
            "|  count|              4622|             4622|              4622|             4622|                3376|      4622|\n",
            "|   mean|            2310.5|927.2548680225011|1.0757247944612722|             null|                null|      null|\n",
            "| stddev|1334.4008018582722|528.8907955866096|0.4101863342575333|             null|                null|      null|\n",
            "|    min|                 0|                1|                 1|6 Pack Soft Drink|[Adobo-Marinated ...|    $1.09 |\n",
            "|    max|              4621|             1834|                15|Veggie Soft Tacos|[[Tomatillo-Red C...|    $9.39 |\n",
            "+-------+------------------+-----------------+------------------+-----------------+--------------------+----------+\n",
            "\n"
          ]
        }
      ],
      "source": [
        "# .describe() method can be used to do so\n",
        "\n",
        "df.describe().show()"
      ]
    },
    {
      "cell_type": "markdown",
      "metadata": {
        "id": "y7UQ2Yg5ngLh"
      },
      "source": [
        "### Step 5. What is the number of observations in the dataset?"
      ]
    },
    {
      "cell_type": "code",
      "execution_count": 16,
      "metadata": {
        "id": "J37y3eu0ngLh",
        "outputId": "14e1bba4-9a57-48b3-b317-52beac75da83",
        "colab": {
          "base_uri": "https://localhost:8080/"
        }
      },
      "outputs": [
        {
          "output_type": "stream",
          "name": "stdout",
          "text": [
            "Number of rows:  4622\n"
          ]
        }
      ],
      "source": [
        "num_rows = df.count()\n",
        "print(\"Number of rows: \",num_rows)"
      ]
    },
    {
      "cell_type": "markdown",
      "metadata": {
        "id": "j0fc1IqnngLh"
      },
      "source": [
        "### Step 6. What is the number of columns in the dataset?"
      ]
    },
    {
      "cell_type": "code",
      "execution_count": 17,
      "metadata": {
        "id": "ZvrsnxdnngLh",
        "outputId": "dd749116-f023-4f89-fb95-486749c53a04",
        "colab": {
          "base_uri": "https://localhost:8080/"
        }
      },
      "outputs": [
        {
          "output_type": "stream",
          "name": "stdout",
          "text": [
            "Number of Columns: 6\n"
          ]
        }
      ],
      "source": [
        "num_col = len(df.columns)\n",
        "print(\"Number of Columns:\", num_col)"
      ]
    },
    {
      "cell_type": "markdown",
      "metadata": {
        "id": "f6UHKvXRngLi"
      },
      "source": [
        "### Step 7. Print the name of all the columns."
      ]
    },
    {
      "cell_type": "code",
      "execution_count": 18,
      "metadata": {
        "id": "Umq6X5rongLi",
        "outputId": "76c67eb9-a1bf-4164-e6db-8cdb0eae8bf7",
        "colab": {
          "base_uri": "https://localhost:8080/"
        }
      },
      "outputs": [
        {
          "output_type": "stream",
          "name": "stdout",
          "text": [
            "Column Names:  ['_c0', 'order_id', 'quantity', 'item_name', 'choice_description', 'item_price']\n"
          ]
        }
      ],
      "source": [
        "col_names= df.columns\n",
        "print(\"Column Names: \", col_names)"
      ]
    }
  ],
  "metadata": {
    "anaconda-cloud": {},
    "kernelspec": {
      "display_name": "DQ",
      "language": "python",
      "name": "dq"
    },
    "language_info": {
      "codemirror_mode": {
        "name": "ipython",
        "version": 3
      },
      "file_extension": ".py",
      "mimetype": "text/x-python",
      "name": "python",
      "nbconvert_exporter": "python",
      "pygments_lexer": "ipython3",
      "version": "3.8.10"
    },
    "colab": {
      "provenance": []
    }
  },
  "nbformat": 4,
  "nbformat_minor": 0
}